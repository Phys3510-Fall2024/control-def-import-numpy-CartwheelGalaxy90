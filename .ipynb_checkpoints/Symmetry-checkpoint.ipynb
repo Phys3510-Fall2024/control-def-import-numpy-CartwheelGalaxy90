{
 "cells": [
  {
   "cell_type": "markdown",
   "id": "3157e057-4301-4390-85f8-a331b5985d7d",
   "metadata": {},
   "source": [
    "### The 'one-dimensional objects'\n",
    "For this exercise, we are going to define 'one-dimensional objects' with vector\n",
    "operators, and use special symmetries to make sense of them. The four objects we\n",
    "are going to explore are:\n",
    "1. scalar\n",
    "3. polar vector\n",
    "4. axial (pseudo) vector\n",
    "5. pseudoscalar"
   ]
  },
  {
   "cell_type": "markdown",
   "id": "88a1a0f4-62ca-4543-ac5e-8ac0262a15ac",
   "metadata": {},
   "source": [
    "Scalar: constant: (x, y, z) goes to (x, y, z)  \n",
    "Polar vector: $\\hat{z}$: (x, y, z) goes to (-x, -y, -z)  \n",
    "Axial (pseudo) vector: $\\hat{x} * \\hat{y}$: (x, y, z) goes to (x, -y, -z)  \n",
    "Pseudoscalar: $\\hat{z}*(\\hat{x} * \\hat{y})$: (x, y, z) goes to ()  "
   ]
  },
  {
   "cell_type": "markdown",
   "id": "a89af07f-e185-4aa9-ac5c-5b30613e0238",
   "metadata": {},
   "source": [
    "- identity\n",
    "- inversion\n",
    "- mirror_z: a mirror in the xy-plane\n",
    "- mirror_y: a mirror in the yz-plane\n",
    "- rotation_x_180: a 180 degree rotation about the x-axis"
   ]
  },
  {
   "cell_type": "code",
   "execution_count": 1,
   "id": "23a9107b-c96a-4ec8-940b-aa73a0af0bcd",
   "metadata": {},
   "outputs": [],
   "source": [
    "import numpy as np # Import numpy"
   ]
  },
  {
   "cell_type": "code",
   "execution_count": 2,
   "id": "1904affe-e646-40fd-9d2e-765f6e7266c0",
   "metadata": {},
   "outputs": [],
   "source": [
    "a = np.array([1, 0, 0])\n",
    "b = np.array([0, 1, 0])\n",
    "c = np.array([0, 0, 1])"
   ]
  },
  {
   "cell_type": "code",
   "execution_count": 31,
   "id": "3b464d41-c00f-421d-b198-0e36e060dfef",
   "metadata": {},
   "outputs": [],
   "source": [
    "scalar = np.dot(c, c) # Dot product  \n",
    "polar_vec = c # No operation  \n",
    "axial_vec = np.cross(a, b) # Cross product  \n",
    "pseudo_scalar = np.dot(c, np.cross(a, b)) # Scalar triple product  \n",
    "#print(scalar)  \n",
    "#print(polar_vec)  \n",
    "#print(axial_vec)  \n",
    "#print(pseudo_scalar)"
   ]
  },
  {
   "cell_type": "code",
   "execution_count": 26,
   "id": "8f2902e6-3f7c-423b-99ec-2168f7641602",
   "metadata": {},
   "outputs": [],
   "source": [
    "identity = np.array(\n",
    "                [[ 1, 0, 0]\n",
    "                ,[ 0, 1, 0]\n",
    "                ,[ 0, 0, 1]])"
   ]
  },
  {
   "cell_type": "code",
   "execution_count": 27,
   "id": "e34fe790-10e6-4a60-9a21-1da594828569",
   "metadata": {},
   "outputs": [
    {
     "name": "stdout",
     "output_type": "stream",
     "text": [
      "1\n",
      "[0 0 1]\n",
      "[0 0 1]\n",
      "1\n"
     ]
    }
   ],
   "source": [
    "id_scalar = np.dot(identity @ c, identity @ c)\n",
    "id_polar_vec = identity @ c\n",
    "id_axial_vec = np.cross(identity @ a, identity @ b)  \n",
    "id_pseudo_scalar = np.dot(identity @ c, np.cross(identity @ a, identity @ b))\n",
    "print(id_scalar)  \n",
    "print(id_polar_vec)  \n",
    "print(id_axial_vec)  \n",
    "print(id_pseudo_scalar)"
   ]
  },
  {
   "cell_type": "code",
   "execution_count": 33,
   "id": "16a28775-c9db-4876-bb25-a6f9ceaed671",
   "metadata": {},
   "outputs": [],
   "source": [
    "inversion = np.array(\n",
    "                [[-1, 0, 0]\n",
    "                ,[ 0, -1, 0]\n",
    "                ,[ 0, 0, -1]])"
   ]
  },
  {
   "cell_type": "code",
   "execution_count": 34,
   "id": "cde674a6-27cc-497d-8ef0-49bf01579c34",
   "metadata": {},
   "outputs": [
    {
     "name": "stdout",
     "output_type": "stream",
     "text": [
      "1\n",
      "[ 0  0 -1]\n",
      "[0 0 1]\n",
      "-1\n"
     ]
    }
   ],
   "source": [
    "inversion_scalar = np.dot(inversion @ c, inversion @ c)\n",
    "inversion_polar_vec = inversion @ c\n",
    "inversion_axial_vec = np.cross(inversion @ a, inversion @ b)  \n",
    "inversion_pseudo_scalar = np.dot(inversion @ c, np.cross(inversion @ a, inversion @ b))\n",
    "print(inversion_scalar)\n",
    "print(inversion_polar_vec)\n",
    "print(inversion_axial_vec)\n",
    "print(inversion_pseudo_scalar)"
   ]
  },
  {
   "cell_type": "code",
   "execution_count": null,
   "id": "d355f8b5-7380-4efd-86e6-dc27249e5a05",
   "metadata": {},
   "outputs": [],
   "source": [
    "mirror_z = np.array(\n",
    "                [[]\n",
    "                 ,[]\n",
    "                 ,[])"
   ]
  },
  {
   "cell_type": "code",
   "execution_count": null,
   "id": "f99e2b70-8492-4cc4-abb9-b83b00904e1a",
   "metadata": {},
   "outputs": [],
   "source": [
    "mirror_y = np.array(\n",
    "                [[]\n",
    "                 ,[]\n",
    "                 ,[])"
   ]
  },
  {
   "cell_type": "code",
   "execution_count": null,
   "id": "d6e0eb28-e6d4-41f1-92eb-648ed96b3cfa",
   "metadata": {},
   "outputs": [],
   "source": [
    "mirror_x = np.array(\n",
    "                [[]\n",
    "                 ,[]\n",
    "                 ,[])"
   ]
  },
  {
   "cell_type": "markdown",
   "id": "6ffe7373-2cd5-411c-a150-a66163b1b8d3",
   "metadata": {},
   "source": [
    "| 1D object | Identity | Inversion | Mirror_z | Mirror_y | Mirror_x |  Rotation_x_180 |  \n",
    "|-----------|----------|-----------|----------|----------|----------|----------------|  \n",
    "| Scalar | 1 | 1| | | | |  \n",
    "| Polar Vector | 1 |-1 | | | | |  \n",
    "| Axial Vector | 1 |1 | | | | |  \n",
    "| Pseudoscalar | 1 | -1| | | | |  "
   ]
  },
  {
   "cell_type": "code",
   "execution_count": null,
   "id": "aa29078e-b37c-4241-aaf8-3af293346ab9",
   "metadata": {},
   "outputs": [],
   "source": []
  }
 ],
 "metadata": {
  "kernelspec": {
   "display_name": "Python 3 (ipykernel)",
   "language": "python",
   "name": "python3"
  },
  "language_info": {
   "codemirror_mode": {
    "name": "ipython",
    "version": 3
   },
   "file_extension": ".py",
   "mimetype": "text/x-python",
   "name": "python",
   "nbconvert_exporter": "python",
   "pygments_lexer": "ipython3",
   "version": "3.9.19"
  }
 },
 "nbformat": 4,
 "nbformat_minor": 5
}
