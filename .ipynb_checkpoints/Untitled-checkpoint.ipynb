{
 "cells": [
  {
   "cell_type": "markdown",
   "id": "feb97123-70f1-4bcc-9252-eb6204126160",
   "metadata": {},
   "source": [
    "## Simple Harmonic Motion\n",
    "\n",
    "This function will output the position and velocity of a spring-mass system.\n",
    "\n",
    "The important equations are:\n",
    "\n",
    "THe potential energy: $U = \\frac{1}{2} kx^2$  \n",
    "The force: $F = -k x = ma = m \\ddot x$  "
   ]
  },
  {
   "cell_type": "code",
   "execution_count": 5,
   "id": "13f7d815-d689-4c6f-aa87-da5a4b7713f0",
   "metadata": {},
   "outputs": [],
   "source": [
    "# import the math library\n",
    "import math\n",
    "\n",
    "# define our harmnic motion function\n",
    "def harmonic_motion(t, omega, x0, v0):\n",
    "    \"\"\"\n",
    "    This function outputs the position and velosity of a harmonic oscillator (simple spring-mass system) at a designated time\n",
    "\n",
    "    Input:\n",
    "    t : times in seconds\n",
    "    omega : resonant frequency (omega = math.sqrt(k/m))\n",
    "    x0 : the initial position\n",
    "    v0 : the initial velocity\n",
    "    x : position at time t\n",
    "    v : velocity at time t\n",
    "    \"\"\"\n",
    "    # position as a function of time\n",
    "    x = x0 * math.cos(omega * t) + (v0/omega) * math.sin(omega * t)\n",
    "\n",
    "    # velocity as a function of time\n",
    "    v = - omega * x0 * math.sin(omega * t) +v0 * math.cos(omega * t)\n",
    "    \n",
    "    return x, v"
   ]
  },
  {
   "cell_type": "code",
   "execution_count": 9,
   "id": "5bb441b3-5594-45f4-83e8-3e07da7c3020",
   "metadata": {},
   "outputs": [
    {
     "data": {
      "text/plain": [
       "[3.099999999999999, 3.000000000000001]"
      ]
     },
     "execution_count": 9,
     "metadata": {},
     "output_type": "execute_result"
    }
   ],
   "source": [
    "# testing our function\n",
    "omega = 1 # units to be determined\n",
    "time = 2*math.pi/omega # time [units to be determined]\n",
    "initial_position = 3.1 # units to be determined\n",
    "initial_velocity = 3 # units to be determined\n",
    "position, velocity = harmonic_motion(time, omega, initial_position, initial_velocity)\n",
    "[position, velocity]"
   ]
  },
  {
   "cell_type": "code",
   "execution_count": null,
   "id": "c0dc7f52-99be-4f80-b77d-128a4276ebb2",
   "metadata": {},
   "outputs": [],
   "source": []
  }
 ],
 "metadata": {
  "kernelspec": {
   "display_name": "Python 3 (ipykernel)",
   "language": "python",
   "name": "python3"
  },
  "language_info": {
   "codemirror_mode": {
    "name": "ipython",
    "version": 3
   },
   "file_extension": ".py",
   "mimetype": "text/x-python",
   "name": "python",
   "nbconvert_exporter": "python",
   "pygments_lexer": "ipython3",
   "version": "3.9.19"
  }
 },
 "nbformat": 4,
 "nbformat_minor": 5
}
